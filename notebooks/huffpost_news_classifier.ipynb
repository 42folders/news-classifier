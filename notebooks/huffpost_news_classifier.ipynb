{
  "nbformat": 4,
  "nbformat_minor": 0,
  "metadata": {
    "colab": {
      "provenance": [],
      "toc_visible": true
    },
    "kernelspec": {
      "name": "python3",
      "display_name": "Python 3"
    },
    "language_info": {
      "name": "python"
    }
  },
  "cells": [
    {
      "cell_type": "code",
      "execution_count": null,
      "metadata": {
        "id": "UjyHq_eB5Vi1"
      },
      "outputs": [],
      "source": []
    },
    {
      "cell_type": "markdown",
      "source": [
        "# Aim\n",
        "To train a baseline non-transformer model for single-label classification of the Huffington Post news dataset.\n",
        "\n",
        "Ultimately the baseline model can be compared with a transformer classifier to determine if transformer models can perform better than non-transformer models in an NLP single-label classification of an imbalanced dataset.\n",
        "\n",
        "## Dataset\n",
        "Huffington News headline texts downloaded from https://www.kaggle.com%2Fdatasets%2Frmisra%2Fnews-category-dataset%2Fdata.\n",
        "\n",
        "Exploratory analysis of this is in the huffpost-news-EDA notebook (link).\n",
        "\n",
        "## Modelling approaches\n",
        "\n",
        "### Non-transformer models:\n",
        "- Naive Bayes\n",
        "- Random Forest\n",
        "- Logistic Regression\n",
        "- Support Vector Machine\n",
        "\n",
        "To use k-fold cross-validation to determine which is the best performing non-transformer model\n",
        "### Huggingface's Transformer (DistilBERT)\n",
        "- Using Huggingface's Pytorch Trainer API to fine-tune DistilBERT\n",
        "\n",
        "### Data treatments\n",
        "(1) None: use imbalanced dataset as is for both types of models to see if transformers have any advantages over non-transformer models for imbalanced data\n",
        "(2) Oversampling of minority classes\n",
        "(3) Undersampling of majority classes\n",
        "\n",
        "### Metrics\n",
        "Compare Accuracy and F1 scores\n"
      ],
      "metadata": {
        "id": "BxWGHQd55ZJ2"
      }
    },
    {
      "cell_type": "markdown",
      "source": [],
      "metadata": {
        "id": "O9K2Xi5e3Ifq"
      }
    },
    {
      "cell_type": "code",
      "source": [
        "import pandas as pd\n",
        "import numpy as np\n",
        "\n",
        "from sklearn.model_selection import train_test_split\n",
        "from sklearn.feature_extraction.text import TfidfVectorizer\n",
        "from sklearn.pipeline import Pipeline\n",
        "from sklearn.naive_bayes import MultinomialNB\n",
        "\n",
        "from sklearn.metrics import confusion_matrix, classification_report, ConfusionMatrixDisplay\n",
        "import matplotlib.pyplot as plt\n",
        "\n",
        "# import transformers\n",
        "# print(transformers.__version__)\n",
        "# from transformers import Trainer\n"
      ],
      "metadata": {
        "id": "oXM_iCKi641u"
      },
      "execution_count": 3,
      "outputs": []
    },
    {
      "cell_type": "code",
      "source": [
        "RANDOM_STATE = 42\n",
        "TEST_SIZE = 0.2"
      ],
      "metadata": {
        "id": "WTFxiXxo9u5D"
      },
      "execution_count": 1,
      "outputs": []
    },
    {
      "cell_type": "markdown",
      "source": [
        "# (A) Dataset\n",
        "The dataset is the original downloaded dataset"
      ],
      "metadata": {
        "id": "NwV6Dkkn26yT"
      }
    },
    {
      "cell_type": "code",
      "source": [
        "data = pd.read_csv(r\"/content/data_EDA.csv\", usecols=['headline', 'category']) # For Google colab notebook\n",
        "data.rename(columns={'headline':'text', 'category':'label'}, inplace=True)"
      ],
      "metadata": {
        "id": "Xbl0aUl_3-6e"
      },
      "execution_count": 30,
      "outputs": []
    },
    {
      "cell_type": "code",
      "source": [
        "# Load dataset (get text and target columns only)\n",
        "len(data)"
      ],
      "metadata": {
        "id": "B1woTYV0BeUO",
        "colab": {
          "base_uri": "https://localhost:8080/"
        },
        "outputId": "316c55dd-9103-47b3-8bcd-746569de0f60"
      },
      "execution_count": 31,
      "outputs": [
        {
          "output_type": "execute_result",
          "data": {
            "text/plain": [
              "15619"
            ]
          },
          "metadata": {},
          "execution_count": 31
        }
      ]
    },
    {
      "cell_type": "code",
      "source": [
        "print(f\"Number of categories: {data['label'].nunique()}\\n\")\n",
        "\n",
        "ct = data.label.value_counts().rename_axis('label').reset_index(name='count')\n",
        "ct['percent'] = ((ct['count']/ct['count'].sum())*100).round(2)\n",
        "ct"
      ],
      "metadata": {
        "colab": {
          "base_uri": "https://localhost:8080/",
          "height": 1000
        },
        "id": "54LNBy1q7psn",
        "outputId": "81f31588-0246-4900-86ea-e509b6035e10"
      },
      "execution_count": 32,
      "outputs": [
        {
          "output_type": "stream",
          "name": "stdout",
          "text": [
            "Number of categories: 32\n",
            "\n"
          ]
        },
        {
          "output_type": "execute_result",
          "data": {
            "text/plain": [
              "             label  count  percent\n",
              "0         POLITICS   5383    34.46\n",
              "1    ENTERTAINMENT   2718    17.40\n",
              "2       WORLD NEWS   1562    10.00\n",
              "3        U.S. NEWS   1377     8.82\n",
              "4           COMEDY    595     3.81\n",
              "5           SPORTS    523     3.35\n",
              "6     BLACK VOICES    405     2.59\n",
              "7     QUEER VOICES    404     2.59\n",
              "8            MEDIA    369     2.36\n",
              "9            CRIME    309     1.98\n",
              "10      WEIRD NEWS    273     1.75\n",
              "11           WOMEN    261     1.67\n",
              "12  STYLE & BEAUTY    165     1.06\n",
              "13        BUSINESS    131     0.84\n",
              "14   HOME & LIVING    125     0.80\n",
              "15     ENVIRONMENT    121     0.77\n",
              "16        WELLNESS    118     0.76\n",
              "17       PARENTING    114     0.73\n",
              "18    FOOD & DRINK    114     0.73\n",
              "19          IMPACT     91     0.58\n",
              "20          TRAVEL     75     0.48\n",
              "21            TECH     70     0.45\n",
              "22        RELIGION     69     0.44\n",
              "23         SCIENCE     61     0.39\n",
              "24           MONEY     49     0.31\n",
              "25   LATINO VOICES     46     0.29\n",
              "26  CULTURE & ARTS     44     0.28\n",
              "27       EDUCATION     39     0.25\n",
              "28         PARENTS      4     0.03\n",
              "29        WEDDINGS      2     0.01\n",
              "30         COLLEGE      1     0.01\n",
              "31  ARTS & CULTURE      1     0.01"
            ],
            "text/html": [
              "\n",
              "  <div id=\"df-a5aa6e15-fd99-4b02-ae95-c362f6b02feb\" class=\"colab-df-container\">\n",
              "    <div>\n",
              "<style scoped>\n",
              "    .dataframe tbody tr th:only-of-type {\n",
              "        vertical-align: middle;\n",
              "    }\n",
              "\n",
              "    .dataframe tbody tr th {\n",
              "        vertical-align: top;\n",
              "    }\n",
              "\n",
              "    .dataframe thead th {\n",
              "        text-align: right;\n",
              "    }\n",
              "</style>\n",
              "<table border=\"1\" class=\"dataframe\">\n",
              "  <thead>\n",
              "    <tr style=\"text-align: right;\">\n",
              "      <th></th>\n",
              "      <th>label</th>\n",
              "      <th>count</th>\n",
              "      <th>percent</th>\n",
              "    </tr>\n",
              "  </thead>\n",
              "  <tbody>\n",
              "    <tr>\n",
              "      <th>0</th>\n",
              "      <td>POLITICS</td>\n",
              "      <td>5383</td>\n",
              "      <td>34.46</td>\n",
              "    </tr>\n",
              "    <tr>\n",
              "      <th>1</th>\n",
              "      <td>ENTERTAINMENT</td>\n",
              "      <td>2718</td>\n",
              "      <td>17.40</td>\n",
              "    </tr>\n",
              "    <tr>\n",
              "      <th>2</th>\n",
              "      <td>WORLD NEWS</td>\n",
              "      <td>1562</td>\n",
              "      <td>10.00</td>\n",
              "    </tr>\n",
              "    <tr>\n",
              "      <th>3</th>\n",
              "      <td>U.S. NEWS</td>\n",
              "      <td>1377</td>\n",
              "      <td>8.82</td>\n",
              "    </tr>\n",
              "    <tr>\n",
              "      <th>4</th>\n",
              "      <td>COMEDY</td>\n",
              "      <td>595</td>\n",
              "      <td>3.81</td>\n",
              "    </tr>\n",
              "    <tr>\n",
              "      <th>5</th>\n",
              "      <td>SPORTS</td>\n",
              "      <td>523</td>\n",
              "      <td>3.35</td>\n",
              "    </tr>\n",
              "    <tr>\n",
              "      <th>6</th>\n",
              "      <td>BLACK VOICES</td>\n",
              "      <td>405</td>\n",
              "      <td>2.59</td>\n",
              "    </tr>\n",
              "    <tr>\n",
              "      <th>7</th>\n",
              "      <td>QUEER VOICES</td>\n",
              "      <td>404</td>\n",
              "      <td>2.59</td>\n",
              "    </tr>\n",
              "    <tr>\n",
              "      <th>8</th>\n",
              "      <td>MEDIA</td>\n",
              "      <td>369</td>\n",
              "      <td>2.36</td>\n",
              "    </tr>\n",
              "    <tr>\n",
              "      <th>9</th>\n",
              "      <td>CRIME</td>\n",
              "      <td>309</td>\n",
              "      <td>1.98</td>\n",
              "    </tr>\n",
              "    <tr>\n",
              "      <th>10</th>\n",
              "      <td>WEIRD NEWS</td>\n",
              "      <td>273</td>\n",
              "      <td>1.75</td>\n",
              "    </tr>\n",
              "    <tr>\n",
              "      <th>11</th>\n",
              "      <td>WOMEN</td>\n",
              "      <td>261</td>\n",
              "      <td>1.67</td>\n",
              "    </tr>\n",
              "    <tr>\n",
              "      <th>12</th>\n",
              "      <td>STYLE &amp; BEAUTY</td>\n",
              "      <td>165</td>\n",
              "      <td>1.06</td>\n",
              "    </tr>\n",
              "    <tr>\n",
              "      <th>13</th>\n",
              "      <td>BUSINESS</td>\n",
              "      <td>131</td>\n",
              "      <td>0.84</td>\n",
              "    </tr>\n",
              "    <tr>\n",
              "      <th>14</th>\n",
              "      <td>HOME &amp; LIVING</td>\n",
              "      <td>125</td>\n",
              "      <td>0.80</td>\n",
              "    </tr>\n",
              "    <tr>\n",
              "      <th>15</th>\n",
              "      <td>ENVIRONMENT</td>\n",
              "      <td>121</td>\n",
              "      <td>0.77</td>\n",
              "    </tr>\n",
              "    <tr>\n",
              "      <th>16</th>\n",
              "      <td>WELLNESS</td>\n",
              "      <td>118</td>\n",
              "      <td>0.76</td>\n",
              "    </tr>\n",
              "    <tr>\n",
              "      <th>17</th>\n",
              "      <td>PARENTING</td>\n",
              "      <td>114</td>\n",
              "      <td>0.73</td>\n",
              "    </tr>\n",
              "    <tr>\n",
              "      <th>18</th>\n",
              "      <td>FOOD &amp; DRINK</td>\n",
              "      <td>114</td>\n",
              "      <td>0.73</td>\n",
              "    </tr>\n",
              "    <tr>\n",
              "      <th>19</th>\n",
              "      <td>IMPACT</td>\n",
              "      <td>91</td>\n",
              "      <td>0.58</td>\n",
              "    </tr>\n",
              "    <tr>\n",
              "      <th>20</th>\n",
              "      <td>TRAVEL</td>\n",
              "      <td>75</td>\n",
              "      <td>0.48</td>\n",
              "    </tr>\n",
              "    <tr>\n",
              "      <th>21</th>\n",
              "      <td>TECH</td>\n",
              "      <td>70</td>\n",
              "      <td>0.45</td>\n",
              "    </tr>\n",
              "    <tr>\n",
              "      <th>22</th>\n",
              "      <td>RELIGION</td>\n",
              "      <td>69</td>\n",
              "      <td>0.44</td>\n",
              "    </tr>\n",
              "    <tr>\n",
              "      <th>23</th>\n",
              "      <td>SCIENCE</td>\n",
              "      <td>61</td>\n",
              "      <td>0.39</td>\n",
              "    </tr>\n",
              "    <tr>\n",
              "      <th>24</th>\n",
              "      <td>MONEY</td>\n",
              "      <td>49</td>\n",
              "      <td>0.31</td>\n",
              "    </tr>\n",
              "    <tr>\n",
              "      <th>25</th>\n",
              "      <td>LATINO VOICES</td>\n",
              "      <td>46</td>\n",
              "      <td>0.29</td>\n",
              "    </tr>\n",
              "    <tr>\n",
              "      <th>26</th>\n",
              "      <td>CULTURE &amp; ARTS</td>\n",
              "      <td>44</td>\n",
              "      <td>0.28</td>\n",
              "    </tr>\n",
              "    <tr>\n",
              "      <th>27</th>\n",
              "      <td>EDUCATION</td>\n",
              "      <td>39</td>\n",
              "      <td>0.25</td>\n",
              "    </tr>\n",
              "    <tr>\n",
              "      <th>28</th>\n",
              "      <td>PARENTS</td>\n",
              "      <td>4</td>\n",
              "      <td>0.03</td>\n",
              "    </tr>\n",
              "    <tr>\n",
              "      <th>29</th>\n",
              "      <td>WEDDINGS</td>\n",
              "      <td>2</td>\n",
              "      <td>0.01</td>\n",
              "    </tr>\n",
              "    <tr>\n",
              "      <th>30</th>\n",
              "      <td>COLLEGE</td>\n",
              "      <td>1</td>\n",
              "      <td>0.01</td>\n",
              "    </tr>\n",
              "    <tr>\n",
              "      <th>31</th>\n",
              "      <td>ARTS &amp; CULTURE</td>\n",
              "      <td>1</td>\n",
              "      <td>0.01</td>\n",
              "    </tr>\n",
              "  </tbody>\n",
              "</table>\n",
              "</div>\n",
              "    <div class=\"colab-df-buttons\">\n",
              "\n",
              "  <div class=\"colab-df-container\">\n",
              "    <button class=\"colab-df-convert\" onclick=\"convertToInteractive('df-a5aa6e15-fd99-4b02-ae95-c362f6b02feb')\"\n",
              "            title=\"Convert this dataframe to an interactive table.\"\n",
              "            style=\"display:none;\">\n",
              "\n",
              "  <svg xmlns=\"http://www.w3.org/2000/svg\" height=\"24px\" viewBox=\"0 -960 960 960\">\n",
              "    <path d=\"M120-120v-720h720v720H120Zm60-500h600v-160H180v160Zm220 220h160v-160H400v160Zm0 220h160v-160H400v160ZM180-400h160v-160H180v160Zm440 0h160v-160H620v160ZM180-180h160v-160H180v160Zm440 0h160v-160H620v160Z\"/>\n",
              "  </svg>\n",
              "    </button>\n",
              "\n",
              "  <style>\n",
              "    .colab-df-container {\n",
              "      display:flex;\n",
              "      gap: 12px;\n",
              "    }\n",
              "\n",
              "    .colab-df-convert {\n",
              "      background-color: #E8F0FE;\n",
              "      border: none;\n",
              "      border-radius: 50%;\n",
              "      cursor: pointer;\n",
              "      display: none;\n",
              "      fill: #1967D2;\n",
              "      height: 32px;\n",
              "      padding: 0 0 0 0;\n",
              "      width: 32px;\n",
              "    }\n",
              "\n",
              "    .colab-df-convert:hover {\n",
              "      background-color: #E2EBFA;\n",
              "      box-shadow: 0px 1px 2px rgba(60, 64, 67, 0.3), 0px 1px 3px 1px rgba(60, 64, 67, 0.15);\n",
              "      fill: #174EA6;\n",
              "    }\n",
              "\n",
              "    .colab-df-buttons div {\n",
              "      margin-bottom: 4px;\n",
              "    }\n",
              "\n",
              "    [theme=dark] .colab-df-convert {\n",
              "      background-color: #3B4455;\n",
              "      fill: #D2E3FC;\n",
              "    }\n",
              "\n",
              "    [theme=dark] .colab-df-convert:hover {\n",
              "      background-color: #434B5C;\n",
              "      box-shadow: 0px 1px 3px 1px rgba(0, 0, 0, 0.15);\n",
              "      filter: drop-shadow(0px 1px 2px rgba(0, 0, 0, 0.3));\n",
              "      fill: #FFFFFF;\n",
              "    }\n",
              "  </style>\n",
              "\n",
              "    <script>\n",
              "      const buttonEl =\n",
              "        document.querySelector('#df-a5aa6e15-fd99-4b02-ae95-c362f6b02feb button.colab-df-convert');\n",
              "      buttonEl.style.display =\n",
              "        google.colab.kernel.accessAllowed ? 'block' : 'none';\n",
              "\n",
              "      async function convertToInteractive(key) {\n",
              "        const element = document.querySelector('#df-a5aa6e15-fd99-4b02-ae95-c362f6b02feb');\n",
              "        const dataTable =\n",
              "          await google.colab.kernel.invokeFunction('convertToInteractive',\n",
              "                                                    [key], {});\n",
              "        if (!dataTable) return;\n",
              "\n",
              "        const docLinkHtml = 'Like what you see? Visit the ' +\n",
              "          '<a target=\"_blank\" href=https://colab.research.google.com/notebooks/data_table.ipynb>data table notebook</a>'\n",
              "          + ' to learn more about interactive tables.';\n",
              "        element.innerHTML = '';\n",
              "        dataTable['output_type'] = 'display_data';\n",
              "        await google.colab.output.renderOutput(dataTable, element);\n",
              "        const docLink = document.createElement('div');\n",
              "        docLink.innerHTML = docLinkHtml;\n",
              "        element.appendChild(docLink);\n",
              "      }\n",
              "    </script>\n",
              "  </div>\n",
              "\n",
              "\n",
              "<div id=\"df-1b7f4be3-81c3-45ea-aa41-3840fb0bdc6f\">\n",
              "  <button class=\"colab-df-quickchart\" onclick=\"quickchart('df-1b7f4be3-81c3-45ea-aa41-3840fb0bdc6f')\"\n",
              "            title=\"Suggest charts\"\n",
              "            style=\"display:none;\">\n",
              "\n",
              "<svg xmlns=\"http://www.w3.org/2000/svg\" height=\"24px\"viewBox=\"0 0 24 24\"\n",
              "     width=\"24px\">\n",
              "    <g>\n",
              "        <path d=\"M19 3H5c-1.1 0-2 .9-2 2v14c0 1.1.9 2 2 2h14c1.1 0 2-.9 2-2V5c0-1.1-.9-2-2-2zM9 17H7v-7h2v7zm4 0h-2V7h2v10zm4 0h-2v-4h2v4z\"/>\n",
              "    </g>\n",
              "</svg>\n",
              "  </button>\n",
              "\n",
              "<style>\n",
              "  .colab-df-quickchart {\n",
              "      --bg-color: #E8F0FE;\n",
              "      --fill-color: #1967D2;\n",
              "      --hover-bg-color: #E2EBFA;\n",
              "      --hover-fill-color: #174EA6;\n",
              "      --disabled-fill-color: #AAA;\n",
              "      --disabled-bg-color: #DDD;\n",
              "  }\n",
              "\n",
              "  [theme=dark] .colab-df-quickchart {\n",
              "      --bg-color: #3B4455;\n",
              "      --fill-color: #D2E3FC;\n",
              "      --hover-bg-color: #434B5C;\n",
              "      --hover-fill-color: #FFFFFF;\n",
              "      --disabled-bg-color: #3B4455;\n",
              "      --disabled-fill-color: #666;\n",
              "  }\n",
              "\n",
              "  .colab-df-quickchart {\n",
              "    background-color: var(--bg-color);\n",
              "    border: none;\n",
              "    border-radius: 50%;\n",
              "    cursor: pointer;\n",
              "    display: none;\n",
              "    fill: var(--fill-color);\n",
              "    height: 32px;\n",
              "    padding: 0;\n",
              "    width: 32px;\n",
              "  }\n",
              "\n",
              "  .colab-df-quickchart:hover {\n",
              "    background-color: var(--hover-bg-color);\n",
              "    box-shadow: 0 1px 2px rgba(60, 64, 67, 0.3), 0 1px 3px 1px rgba(60, 64, 67, 0.15);\n",
              "    fill: var(--button-hover-fill-color);\n",
              "  }\n",
              "\n",
              "  .colab-df-quickchart-complete:disabled,\n",
              "  .colab-df-quickchart-complete:disabled:hover {\n",
              "    background-color: var(--disabled-bg-color);\n",
              "    fill: var(--disabled-fill-color);\n",
              "    box-shadow: none;\n",
              "  }\n",
              "\n",
              "  .colab-df-spinner {\n",
              "    border: 2px solid var(--fill-color);\n",
              "    border-color: transparent;\n",
              "    border-bottom-color: var(--fill-color);\n",
              "    animation:\n",
              "      spin 1s steps(1) infinite;\n",
              "  }\n",
              "\n",
              "  @keyframes spin {\n",
              "    0% {\n",
              "      border-color: transparent;\n",
              "      border-bottom-color: var(--fill-color);\n",
              "      border-left-color: var(--fill-color);\n",
              "    }\n",
              "    20% {\n",
              "      border-color: transparent;\n",
              "      border-left-color: var(--fill-color);\n",
              "      border-top-color: var(--fill-color);\n",
              "    }\n",
              "    30% {\n",
              "      border-color: transparent;\n",
              "      border-left-color: var(--fill-color);\n",
              "      border-top-color: var(--fill-color);\n",
              "      border-right-color: var(--fill-color);\n",
              "    }\n",
              "    40% {\n",
              "      border-color: transparent;\n",
              "      border-right-color: var(--fill-color);\n",
              "      border-top-color: var(--fill-color);\n",
              "    }\n",
              "    60% {\n",
              "      border-color: transparent;\n",
              "      border-right-color: var(--fill-color);\n",
              "    }\n",
              "    80% {\n",
              "      border-color: transparent;\n",
              "      border-right-color: var(--fill-color);\n",
              "      border-bottom-color: var(--fill-color);\n",
              "    }\n",
              "    90% {\n",
              "      border-color: transparent;\n",
              "      border-bottom-color: var(--fill-color);\n",
              "    }\n",
              "  }\n",
              "</style>\n",
              "\n",
              "  <script>\n",
              "    async function quickchart(key) {\n",
              "      const quickchartButtonEl =\n",
              "        document.querySelector('#' + key + ' button');\n",
              "      quickchartButtonEl.disabled = true;  // To prevent multiple clicks.\n",
              "      quickchartButtonEl.classList.add('colab-df-spinner');\n",
              "      try {\n",
              "        const charts = await google.colab.kernel.invokeFunction(\n",
              "            'suggestCharts', [key], {});\n",
              "      } catch (error) {\n",
              "        console.error('Error during call to suggestCharts:', error);\n",
              "      }\n",
              "      quickchartButtonEl.classList.remove('colab-df-spinner');\n",
              "      quickchartButtonEl.classList.add('colab-df-quickchart-complete');\n",
              "    }\n",
              "    (() => {\n",
              "      let quickchartButtonEl =\n",
              "        document.querySelector('#df-1b7f4be3-81c3-45ea-aa41-3840fb0bdc6f button');\n",
              "      quickchartButtonEl.style.display =\n",
              "        google.colab.kernel.accessAllowed ? 'block' : 'none';\n",
              "    })();\n",
              "  </script>\n",
              "</div>\n",
              "\n",
              "  <div id=\"id_64240ab1-2457-40d1-be91-fb7a906e7753\">\n",
              "    <style>\n",
              "      .colab-df-generate {\n",
              "        background-color: #E8F0FE;\n",
              "        border: none;\n",
              "        border-radius: 50%;\n",
              "        cursor: pointer;\n",
              "        display: none;\n",
              "        fill: #1967D2;\n",
              "        height: 32px;\n",
              "        padding: 0 0 0 0;\n",
              "        width: 32px;\n",
              "      }\n",
              "\n",
              "      .colab-df-generate:hover {\n",
              "        background-color: #E2EBFA;\n",
              "        box-shadow: 0px 1px 2px rgba(60, 64, 67, 0.3), 0px 1px 3px 1px rgba(60, 64, 67, 0.15);\n",
              "        fill: #174EA6;\n",
              "      }\n",
              "\n",
              "      [theme=dark] .colab-df-generate {\n",
              "        background-color: #3B4455;\n",
              "        fill: #D2E3FC;\n",
              "      }\n",
              "\n",
              "      [theme=dark] .colab-df-generate:hover {\n",
              "        background-color: #434B5C;\n",
              "        box-shadow: 0px 1px 3px 1px rgba(0, 0, 0, 0.15);\n",
              "        filter: drop-shadow(0px 1px 2px rgba(0, 0, 0, 0.3));\n",
              "        fill: #FFFFFF;\n",
              "      }\n",
              "    </style>\n",
              "    <button class=\"colab-df-generate\" onclick=\"generateWithVariable('ct')\"\n",
              "            title=\"Generate code using this dataframe.\"\n",
              "            style=\"display:none;\">\n",
              "\n",
              "  <svg xmlns=\"http://www.w3.org/2000/svg\" height=\"24px\"viewBox=\"0 0 24 24\"\n",
              "       width=\"24px\">\n",
              "    <path d=\"M7,19H8.4L18.45,9,17,7.55,7,17.6ZM5,21V16.75L18.45,3.32a2,2,0,0,1,2.83,0l1.4,1.43a1.91,1.91,0,0,1,.58,1.4,1.91,1.91,0,0,1-.58,1.4L9.25,21ZM18.45,9,17,7.55Zm-12,3A5.31,5.31,0,0,0,4.9,8.1,5.31,5.31,0,0,0,1,6.5,5.31,5.31,0,0,0,4.9,4.9,5.31,5.31,0,0,0,6.5,1,5.31,5.31,0,0,0,8.1,4.9,5.31,5.31,0,0,0,12,6.5,5.46,5.46,0,0,0,6.5,12Z\"/>\n",
              "  </svg>\n",
              "    </button>\n",
              "    <script>\n",
              "      (() => {\n",
              "      const buttonEl =\n",
              "        document.querySelector('#id_64240ab1-2457-40d1-be91-fb7a906e7753 button.colab-df-generate');\n",
              "      buttonEl.style.display =\n",
              "        google.colab.kernel.accessAllowed ? 'block' : 'none';\n",
              "\n",
              "      buttonEl.onclick = () => {\n",
              "        google.colab.notebook.generateWithVariable('ct');\n",
              "      }\n",
              "      })();\n",
              "    </script>\n",
              "  </div>\n",
              "\n",
              "    </div>\n",
              "  </div>\n"
            ]
          },
          "metadata": {},
          "execution_count": 32
        }
      ]
    },
    {
      "cell_type": "markdown",
      "source": [
        "There are 4 major categories that account for more than 72% of the dataset:\n",
        "- Politics (34.6%)\n",
        "- Entertainment (17.1%)\n",
        "- World News (10.7%)\n",
        "- U.S. News (10.7%)\n",
        "\n",
        "The remaining 28% of the data consists of 28 minor categories.\n",
        "Some of the minor categories have less than 10 entries i.e. too few learning examples for training of a model. A few of the small categories may overlap (e.g. Tech and Business), and might be better consolidated into larger categories for training.\n",
        "\n",
        "Hence at this point we focus only on categories with 500 or more training examples."
      ],
      "metadata": {
        "id": "Pyc4QtW6gz9b"
      }
    },
    {
      "cell_type": "code",
      "source": [
        "# Function to keep the categories with a minimum number (n) of entries\n",
        "cat_counts = data['label'].value_counts()\n",
        "\n",
        "def cat_dropper(df, n):\n",
        "  '''\n",
        "  Takes in a dataframe, and a minimum number (n) of entries required for categories\n",
        "  Drops rows belonging to categories that have less than n entries in the dataframe\n",
        "  Returns dataframe with categories that have n or more entries\n",
        "\n",
        "  '''\n",
        "  df1 = df.loc[df['label'].isin(cat_counts[cat_counts >= n].index)]\n",
        "  print(f\"Number of rows dropped = {len(df)- len(df1)}\")\n",
        "  return df1"
      ],
      "metadata": {
        "id": "jzyQzSqg0Ae8"
      },
      "execution_count": 33,
      "outputs": []
    },
    {
      "cell_type": "code",
      "source": [
        "df1 = cat_dropper(data, 500)\n",
        "df1.info() # 12158 rows"
      ],
      "metadata": {
        "colab": {
          "base_uri": "https://localhost:8080/"
        },
        "id": "J7AfBgBq0VK5",
        "outputId": "c7c407c7-4f37-4c0c-a82a-06467a50bc51"
      },
      "execution_count": 34,
      "outputs": [
        {
          "output_type": "stream",
          "name": "stdout",
          "text": [
            "Number of rows dropped = 3461\n",
            "<class 'pandas.core.frame.DataFrame'>\n",
            "Int64Index: 12158 entries, 0 to 15617\n",
            "Data columns (total 2 columns):\n",
            " #   Column  Non-Null Count  Dtype \n",
            "---  ------  --------------  ----- \n",
            " 0   text    12158 non-null  object\n",
            " 1   label   12158 non-null  object\n",
            "dtypes: object(2)\n",
            "memory usage: 285.0+ KB\n"
          ]
        }
      ]
    },
    {
      "cell_type": "markdown",
      "source": [
        "# (B) Processing dataset for training"
      ],
      "metadata": {
        "id": "SBNsAxy5tBMU"
      }
    },
    {
      "cell_type": "code",
      "source": [
        "# Write a dataframe processor function\n",
        "class Processor:\n",
        "  \"\"\"\n",
        "  A class to process a dataframe containing text and category label columns\n",
        "  to produce label-to-id dictionaries for mapping category labels to numerical label id's.\n",
        "  \"\"\"\n",
        "  def __init__(self, df):\n",
        "    # List classes present\n",
        "    self.classes = np.unique(df['label']).tolist()\n",
        "    # Make dictionaries for category labels to id's\n",
        "    self.id2label = {id:label for id,label in enumerate(self.classes)}\n",
        "    self.label2id = {id:label for label,id in enumerate(self.classes)}\n",
        "\n",
        "  # Map category labels to their id's\n",
        "  def map_id(self, df):\n",
        "    df.loc[:,'label_id'] = df['label'].map(lambda x: self.label2id[x.strip()])\n",
        "    return df"
      ],
      "metadata": {
        "id": "kI9aPS4PJ3al"
      },
      "execution_count": 54,
      "outputs": []
    },
    {
      "cell_type": "code",
      "source": [
        "p = Processor(df1)"
      ],
      "metadata": {
        "id": "3BTw9mLlPZcb"
      },
      "execution_count": 57,
      "outputs": []
    },
    {
      "cell_type": "code",
      "source": [
        "df1 = p.map_id(df1)\n",
        "df1.head(3)"
      ],
      "metadata": {
        "colab": {
          "base_uri": "https://localhost:8080/",
          "height": 267
        },
        "id": "SW0vBDNaPiVa",
        "outputId": "f53b4638-5109-4698-d414-c526bc9f6836"
      },
      "execution_count": 58,
      "outputs": [
        {
          "output_type": "stream",
          "name": "stderr",
          "text": [
            "<ipython-input-54-a6d7bec6278a>:16: SettingWithCopyWarning: \n",
            "A value is trying to be set on a copy of a slice from a DataFrame.\n",
            "Try using .loc[row_indexer,col_indexer] = value instead\n",
            "\n",
            "See the caveats in the documentation: https://pandas.pydata.org/pandas-docs/stable/user_guide/indexing.html#returning-a-view-versus-a-copy\n",
            "  df.loc[:,'label_id'] = df['label'].map(lambda x: self.label2id[x.strip()])\n"
          ]
        },
        {
          "output_type": "execute_result",
          "data": {
            "text/plain": [
              "                                                text      label  label_id\n",
              "0  Over 4 Million Americans Roll Up Sleeves For O...  U.S. NEWS         4\n",
              "1  American Airlines Flyer Charged, Banned For Li...  U.S. NEWS         4\n",
              "2  23 Of The Funniest Tweets About Cats And Dogs ...     COMEDY         0"
            ],
            "text/html": [
              "\n",
              "  <div id=\"df-38137076-647f-4dee-a29f-31367c28d352\" class=\"colab-df-container\">\n",
              "    <div>\n",
              "<style scoped>\n",
              "    .dataframe tbody tr th:only-of-type {\n",
              "        vertical-align: middle;\n",
              "    }\n",
              "\n",
              "    .dataframe tbody tr th {\n",
              "        vertical-align: top;\n",
              "    }\n",
              "\n",
              "    .dataframe thead th {\n",
              "        text-align: right;\n",
              "    }\n",
              "</style>\n",
              "<table border=\"1\" class=\"dataframe\">\n",
              "  <thead>\n",
              "    <tr style=\"text-align: right;\">\n",
              "      <th></th>\n",
              "      <th>text</th>\n",
              "      <th>label</th>\n",
              "      <th>label_id</th>\n",
              "    </tr>\n",
              "  </thead>\n",
              "  <tbody>\n",
              "    <tr>\n",
              "      <th>0</th>\n",
              "      <td>Over 4 Million Americans Roll Up Sleeves For O...</td>\n",
              "      <td>U.S. NEWS</td>\n",
              "      <td>4</td>\n",
              "    </tr>\n",
              "    <tr>\n",
              "      <th>1</th>\n",
              "      <td>American Airlines Flyer Charged, Banned For Li...</td>\n",
              "      <td>U.S. NEWS</td>\n",
              "      <td>4</td>\n",
              "    </tr>\n",
              "    <tr>\n",
              "      <th>2</th>\n",
              "      <td>23 Of The Funniest Tweets About Cats And Dogs ...</td>\n",
              "      <td>COMEDY</td>\n",
              "      <td>0</td>\n",
              "    </tr>\n",
              "  </tbody>\n",
              "</table>\n",
              "</div>\n",
              "    <div class=\"colab-df-buttons\">\n",
              "\n",
              "  <div class=\"colab-df-container\">\n",
              "    <button class=\"colab-df-convert\" onclick=\"convertToInteractive('df-38137076-647f-4dee-a29f-31367c28d352')\"\n",
              "            title=\"Convert this dataframe to an interactive table.\"\n",
              "            style=\"display:none;\">\n",
              "\n",
              "  <svg xmlns=\"http://www.w3.org/2000/svg\" height=\"24px\" viewBox=\"0 -960 960 960\">\n",
              "    <path d=\"M120-120v-720h720v720H120Zm60-500h600v-160H180v160Zm220 220h160v-160H400v160Zm0 220h160v-160H400v160ZM180-400h160v-160H180v160Zm440 0h160v-160H620v160ZM180-180h160v-160H180v160Zm440 0h160v-160H620v160Z\"/>\n",
              "  </svg>\n",
              "    </button>\n",
              "\n",
              "  <style>\n",
              "    .colab-df-container {\n",
              "      display:flex;\n",
              "      gap: 12px;\n",
              "    }\n",
              "\n",
              "    .colab-df-convert {\n",
              "      background-color: #E8F0FE;\n",
              "      border: none;\n",
              "      border-radius: 50%;\n",
              "      cursor: pointer;\n",
              "      display: none;\n",
              "      fill: #1967D2;\n",
              "      height: 32px;\n",
              "      padding: 0 0 0 0;\n",
              "      width: 32px;\n",
              "    }\n",
              "\n",
              "    .colab-df-convert:hover {\n",
              "      background-color: #E2EBFA;\n",
              "      box-shadow: 0px 1px 2px rgba(60, 64, 67, 0.3), 0px 1px 3px 1px rgba(60, 64, 67, 0.15);\n",
              "      fill: #174EA6;\n",
              "    }\n",
              "\n",
              "    .colab-df-buttons div {\n",
              "      margin-bottom: 4px;\n",
              "    }\n",
              "\n",
              "    [theme=dark] .colab-df-convert {\n",
              "      background-color: #3B4455;\n",
              "      fill: #D2E3FC;\n",
              "    }\n",
              "\n",
              "    [theme=dark] .colab-df-convert:hover {\n",
              "      background-color: #434B5C;\n",
              "      box-shadow: 0px 1px 3px 1px rgba(0, 0, 0, 0.15);\n",
              "      filter: drop-shadow(0px 1px 2px rgba(0, 0, 0, 0.3));\n",
              "      fill: #FFFFFF;\n",
              "    }\n",
              "  </style>\n",
              "\n",
              "    <script>\n",
              "      const buttonEl =\n",
              "        document.querySelector('#df-38137076-647f-4dee-a29f-31367c28d352 button.colab-df-convert');\n",
              "      buttonEl.style.display =\n",
              "        google.colab.kernel.accessAllowed ? 'block' : 'none';\n",
              "\n",
              "      async function convertToInteractive(key) {\n",
              "        const element = document.querySelector('#df-38137076-647f-4dee-a29f-31367c28d352');\n",
              "        const dataTable =\n",
              "          await google.colab.kernel.invokeFunction('convertToInteractive',\n",
              "                                                    [key], {});\n",
              "        if (!dataTable) return;\n",
              "\n",
              "        const docLinkHtml = 'Like what you see? Visit the ' +\n",
              "          '<a target=\"_blank\" href=https://colab.research.google.com/notebooks/data_table.ipynb>data table notebook</a>'\n",
              "          + ' to learn more about interactive tables.';\n",
              "        element.innerHTML = '';\n",
              "        dataTable['output_type'] = 'display_data';\n",
              "        await google.colab.output.renderOutput(dataTable, element);\n",
              "        const docLink = document.createElement('div');\n",
              "        docLink.innerHTML = docLinkHtml;\n",
              "        element.appendChild(docLink);\n",
              "      }\n",
              "    </script>\n",
              "  </div>\n",
              "\n",
              "\n",
              "<div id=\"df-95a7d52a-fd89-4010-9065-c330eba9de40\">\n",
              "  <button class=\"colab-df-quickchart\" onclick=\"quickchart('df-95a7d52a-fd89-4010-9065-c330eba9de40')\"\n",
              "            title=\"Suggest charts\"\n",
              "            style=\"display:none;\">\n",
              "\n",
              "<svg xmlns=\"http://www.w3.org/2000/svg\" height=\"24px\"viewBox=\"0 0 24 24\"\n",
              "     width=\"24px\">\n",
              "    <g>\n",
              "        <path d=\"M19 3H5c-1.1 0-2 .9-2 2v14c0 1.1.9 2 2 2h14c1.1 0 2-.9 2-2V5c0-1.1-.9-2-2-2zM9 17H7v-7h2v7zm4 0h-2V7h2v10zm4 0h-2v-4h2v4z\"/>\n",
              "    </g>\n",
              "</svg>\n",
              "  </button>\n",
              "\n",
              "<style>\n",
              "  .colab-df-quickchart {\n",
              "      --bg-color: #E8F0FE;\n",
              "      --fill-color: #1967D2;\n",
              "      --hover-bg-color: #E2EBFA;\n",
              "      --hover-fill-color: #174EA6;\n",
              "      --disabled-fill-color: #AAA;\n",
              "      --disabled-bg-color: #DDD;\n",
              "  }\n",
              "\n",
              "  [theme=dark] .colab-df-quickchart {\n",
              "      --bg-color: #3B4455;\n",
              "      --fill-color: #D2E3FC;\n",
              "      --hover-bg-color: #434B5C;\n",
              "      --hover-fill-color: #FFFFFF;\n",
              "      --disabled-bg-color: #3B4455;\n",
              "      --disabled-fill-color: #666;\n",
              "  }\n",
              "\n",
              "  .colab-df-quickchart {\n",
              "    background-color: var(--bg-color);\n",
              "    border: none;\n",
              "    border-radius: 50%;\n",
              "    cursor: pointer;\n",
              "    display: none;\n",
              "    fill: var(--fill-color);\n",
              "    height: 32px;\n",
              "    padding: 0;\n",
              "    width: 32px;\n",
              "  }\n",
              "\n",
              "  .colab-df-quickchart:hover {\n",
              "    background-color: var(--hover-bg-color);\n",
              "    box-shadow: 0 1px 2px rgba(60, 64, 67, 0.3), 0 1px 3px 1px rgba(60, 64, 67, 0.15);\n",
              "    fill: var(--button-hover-fill-color);\n",
              "  }\n",
              "\n",
              "  .colab-df-quickchart-complete:disabled,\n",
              "  .colab-df-quickchart-complete:disabled:hover {\n",
              "    background-color: var(--disabled-bg-color);\n",
              "    fill: var(--disabled-fill-color);\n",
              "    box-shadow: none;\n",
              "  }\n",
              "\n",
              "  .colab-df-spinner {\n",
              "    border: 2px solid var(--fill-color);\n",
              "    border-color: transparent;\n",
              "    border-bottom-color: var(--fill-color);\n",
              "    animation:\n",
              "      spin 1s steps(1) infinite;\n",
              "  }\n",
              "\n",
              "  @keyframes spin {\n",
              "    0% {\n",
              "      border-color: transparent;\n",
              "      border-bottom-color: var(--fill-color);\n",
              "      border-left-color: var(--fill-color);\n",
              "    }\n",
              "    20% {\n",
              "      border-color: transparent;\n",
              "      border-left-color: var(--fill-color);\n",
              "      border-top-color: var(--fill-color);\n",
              "    }\n",
              "    30% {\n",
              "      border-color: transparent;\n",
              "      border-left-color: var(--fill-color);\n",
              "      border-top-color: var(--fill-color);\n",
              "      border-right-color: var(--fill-color);\n",
              "    }\n",
              "    40% {\n",
              "      border-color: transparent;\n",
              "      border-right-color: var(--fill-color);\n",
              "      border-top-color: var(--fill-color);\n",
              "    }\n",
              "    60% {\n",
              "      border-color: transparent;\n",
              "      border-right-color: var(--fill-color);\n",
              "    }\n",
              "    80% {\n",
              "      border-color: transparent;\n",
              "      border-right-color: var(--fill-color);\n",
              "      border-bottom-color: var(--fill-color);\n",
              "    }\n",
              "    90% {\n",
              "      border-color: transparent;\n",
              "      border-bottom-color: var(--fill-color);\n",
              "    }\n",
              "  }\n",
              "</style>\n",
              "\n",
              "  <script>\n",
              "    async function quickchart(key) {\n",
              "      const quickchartButtonEl =\n",
              "        document.querySelector('#' + key + ' button');\n",
              "      quickchartButtonEl.disabled = true;  // To prevent multiple clicks.\n",
              "      quickchartButtonEl.classList.add('colab-df-spinner');\n",
              "      try {\n",
              "        const charts = await google.colab.kernel.invokeFunction(\n",
              "            'suggestCharts', [key], {});\n",
              "      } catch (error) {\n",
              "        console.error('Error during call to suggestCharts:', error);\n",
              "      }\n",
              "      quickchartButtonEl.classList.remove('colab-df-spinner');\n",
              "      quickchartButtonEl.classList.add('colab-df-quickchart-complete');\n",
              "    }\n",
              "    (() => {\n",
              "      let quickchartButtonEl =\n",
              "        document.querySelector('#df-95a7d52a-fd89-4010-9065-c330eba9de40 button');\n",
              "      quickchartButtonEl.style.display =\n",
              "        google.colab.kernel.accessAllowed ? 'block' : 'none';\n",
              "    })();\n",
              "  </script>\n",
              "</div>\n",
              "\n",
              "    </div>\n",
              "  </div>\n"
            ]
          },
          "metadata": {},
          "execution_count": 58
        }
      ]
    },
    {
      "cell_type": "code",
      "source": [
        "p.classes"
      ],
      "metadata": {
        "colab": {
          "base_uri": "https://localhost:8080/"
        },
        "id": "js7R5AIbRu_7",
        "outputId": "b67caa1d-1a5d-466c-bd01-e1f6903af430"
      },
      "execution_count": 59,
      "outputs": [
        {
          "output_type": "execute_result",
          "data": {
            "text/plain": [
              "['COMEDY', 'ENTERTAINMENT', 'POLITICS', 'SPORTS', 'U.S. NEWS', 'WORLD NEWS']"
            ]
          },
          "metadata": {},
          "execution_count": 59
        }
      ]
    },
    {
      "cell_type": "code",
      "source": [
        "X_train, X_test, y_train, y_test, X_val, y_val = p.ttsplit(df1)"
      ],
      "metadata": {
        "id": "1I-QBldqUxhd"
      },
      "execution_count": 60,
      "outputs": []
    },
    {
      "cell_type": "code",
      "source": [
        "# Make lists of text data and label_id's\n",
        "text = df1['text'].tolist()\n",
        "labels = df1['label_id'].tolist()"
      ],
      "metadata": {
        "id": "de6Qv3WC9ADR"
      },
      "execution_count": 62,
      "outputs": []
    },
    {
      "cell_type": "code",
      "source": [
        "# Partition into training, validation and test sets\n",
        "X_train, X_test, y_train, y_test = train_test_split(text, labels, test_size=TEST_SIZE, stratify=labels, random_state=RANDOM_STATE)\n",
        "X_train, X_val, y_train, y_val = train_test_split(X_train, y_train, test_size=TEST_SIZE, stratify=y_train, random_state=RANDOM_STATE)"
      ],
      "metadata": {
        "id": "4P3gdOJJ9i6R"
      },
      "execution_count": 63,
      "outputs": []
    },
    {
      "cell_type": "code",
      "source": [
        "len(X_train), len(X_test), len(y_train), len(y_test)"
      ],
      "metadata": {
        "id": "wzNSa8RS_jTN",
        "colab": {
          "base_uri": "https://localhost:8080/"
        },
        "outputId": "9ccb6b8d-61ff-4ab1-fade-cc7617b20c99"
      },
      "execution_count": 64,
      "outputs": [
        {
          "output_type": "execute_result",
          "data": {
            "text/plain": [
              "(7780, 2432, 7780, 2432)"
            ]
          },
          "metadata": {},
          "execution_count": 64
        }
      ]
    },
    {
      "cell_type": "markdown",
      "source": [
        "# (C) Feature engineering with TF-IDF\n",
        "- Here we extract features from the text data in the form of numerical representations or vectors, before feeding these as inputs to a machine learning algorithm\n",
        "- The vectorisation method chosen is Term-Frequency-Inverse Document Frequency (TF-IDF)\n",
        "- TF-IDF is the product of 2 statistics, term frequency and inverse document frequency, that reflects how important a certain term is to a document in a corpus\n",
        "\n"
      ],
      "metadata": {
        "id": "UIzfH0UP_kOS"
      }
    },
    {
      "cell_type": "code",
      "source": [
        "# Make numerical representations of text data: TF-IDF\n",
        "tfidf_params = dict(sublinear_tf=True, # scales term frequency to log scale (replaces tf with 1+log(tf))\n",
        "                    min_df=5, # when building vocabulary, removes words that occur less than min_df number of files in corpus\n",
        "                    ngram_range=(1,2), # upper and lower boundary of range of n values for n-gram extraction\n",
        "                    stop_words='english', # passes the list of stop words to be removed\n",
        "                    smooth_idf=True, # smooth idf weights by adding 1 to document frequencies (as if there's an extra document that contains every term in the collection once); prevents zero division error\n",
        "                    norm='l2', #optional: this normalizes term vectors, 'None' for no normalization\n",
        "                    )"
      ],
      "metadata": {
        "id": "GXl2G-Pq_ZsV"
      },
      "execution_count": 49,
      "outputs": []
    },
    {
      "cell_type": "code",
      "source": [
        "tfidf = TfidfVectorizer(**tfidf_params)\n",
        "features = tfidf.fit_transform(text).toarray() # Learn vocabulary and return tfidf matrix\n",
        "print(f'{features.shape[0]} data rows represented by {features.shape[1]} features.')\n",
        "\n",
        "## TODO: What exactly are these features?"
      ],
      "metadata": {
        "colab": {
          "base_uri": "https://localhost:8080/"
        },
        "id": "9jTO9z24XJ_O",
        "outputId": "43059190-9a23-4b80-d4b5-82e17db341ed"
      },
      "execution_count": 51,
      "outputs": [
        {
          "output_type": "stream",
          "name": "stdout",
          "text": [
            "12158 data rows represented by 4981 features.\n"
          ]
        }
      ]
    },
    {
      "cell_type": "markdown",
      "source": [],
      "metadata": {
        "id": "mXq-blTYVbck"
      }
    },
    {
      "cell_type": "code",
      "source": [
        "# Make classification pipeline: vectorise data, then pass as inputs to train a model\n",
        "\n",
        "clf = Pipeline(steps=[\n",
        "    ('features', TfidfVectorizer(**tfidf_params)),\n",
        "    ('model', MultinomialNB())\n",
        "    ])\n",
        "\n",
        "# Fit the pipeline to data (training the model)\n",
        "clf.fit(X_train, y_train)"
      ],
      "metadata": {
        "colab": {
          "base_uri": "https://localhost:8080/",
          "height": 124
        },
        "id": "fgr3WPMZCIdz",
        "outputId": "6e1b967d-e2f3-4f33-922e-7a3ed3349fa2"
      },
      "execution_count": 65,
      "outputs": [
        {
          "output_type": "execute_result",
          "data": {
            "text/plain": [
              "Pipeline(steps=[('features',\n",
              "                 TfidfVectorizer(min_df=5, ngram_range=(1, 2),\n",
              "                                 stop_words='english', sublinear_tf=True)),\n",
              "                ('model', MultinomialNB())])"
            ],
            "text/html": [
              "<style>#sk-container-id-3 {color: black;background-color: white;}#sk-container-id-3 pre{padding: 0;}#sk-container-id-3 div.sk-toggleable {background-color: white;}#sk-container-id-3 label.sk-toggleable__label {cursor: pointer;display: block;width: 100%;margin-bottom: 0;padding: 0.3em;box-sizing: border-box;text-align: center;}#sk-container-id-3 label.sk-toggleable__label-arrow:before {content: \"▸\";float: left;margin-right: 0.25em;color: #696969;}#sk-container-id-3 label.sk-toggleable__label-arrow:hover:before {color: black;}#sk-container-id-3 div.sk-estimator:hover label.sk-toggleable__label-arrow:before {color: black;}#sk-container-id-3 div.sk-toggleable__content {max-height: 0;max-width: 0;overflow: hidden;text-align: left;background-color: #f0f8ff;}#sk-container-id-3 div.sk-toggleable__content pre {margin: 0.2em;color: black;border-radius: 0.25em;background-color: #f0f8ff;}#sk-container-id-3 input.sk-toggleable__control:checked~div.sk-toggleable__content {max-height: 200px;max-width: 100%;overflow: auto;}#sk-container-id-3 input.sk-toggleable__control:checked~label.sk-toggleable__label-arrow:before {content: \"▾\";}#sk-container-id-3 div.sk-estimator input.sk-toggleable__control:checked~label.sk-toggleable__label {background-color: #d4ebff;}#sk-container-id-3 div.sk-label input.sk-toggleable__control:checked~label.sk-toggleable__label {background-color: #d4ebff;}#sk-container-id-3 input.sk-hidden--visually {border: 0;clip: rect(1px 1px 1px 1px);clip: rect(1px, 1px, 1px, 1px);height: 1px;margin: -1px;overflow: hidden;padding: 0;position: absolute;width: 1px;}#sk-container-id-3 div.sk-estimator {font-family: monospace;background-color: #f0f8ff;border: 1px dotted black;border-radius: 0.25em;box-sizing: border-box;margin-bottom: 0.5em;}#sk-container-id-3 div.sk-estimator:hover {background-color: #d4ebff;}#sk-container-id-3 div.sk-parallel-item::after {content: \"\";width: 100%;border-bottom: 1px solid gray;flex-grow: 1;}#sk-container-id-3 div.sk-label:hover label.sk-toggleable__label {background-color: #d4ebff;}#sk-container-id-3 div.sk-serial::before {content: \"\";position: absolute;border-left: 1px solid gray;box-sizing: border-box;top: 0;bottom: 0;left: 50%;z-index: 0;}#sk-container-id-3 div.sk-serial {display: flex;flex-direction: column;align-items: center;background-color: white;padding-right: 0.2em;padding-left: 0.2em;position: relative;}#sk-container-id-3 div.sk-item {position: relative;z-index: 1;}#sk-container-id-3 div.sk-parallel {display: flex;align-items: stretch;justify-content: center;background-color: white;position: relative;}#sk-container-id-3 div.sk-item::before, #sk-container-id-3 div.sk-parallel-item::before {content: \"\";position: absolute;border-left: 1px solid gray;box-sizing: border-box;top: 0;bottom: 0;left: 50%;z-index: -1;}#sk-container-id-3 div.sk-parallel-item {display: flex;flex-direction: column;z-index: 1;position: relative;background-color: white;}#sk-container-id-3 div.sk-parallel-item:first-child::after {align-self: flex-end;width: 50%;}#sk-container-id-3 div.sk-parallel-item:last-child::after {align-self: flex-start;width: 50%;}#sk-container-id-3 div.sk-parallel-item:only-child::after {width: 0;}#sk-container-id-3 div.sk-dashed-wrapped {border: 1px dashed gray;margin: 0 0.4em 0.5em 0.4em;box-sizing: border-box;padding-bottom: 0.4em;background-color: white;}#sk-container-id-3 div.sk-label label {font-family: monospace;font-weight: bold;display: inline-block;line-height: 1.2em;}#sk-container-id-3 div.sk-label-container {text-align: center;}#sk-container-id-3 div.sk-container {/* jupyter's `normalize.less` sets `[hidden] { display: none; }` but bootstrap.min.css set `[hidden] { display: none !important; }` so we also need the `!important` here to be able to override the default hidden behavior on the sphinx rendered scikit-learn.org. See: https://github.com/scikit-learn/scikit-learn/issues/21755 */display: inline-block !important;position: relative;}#sk-container-id-3 div.sk-text-repr-fallback {display: none;}</style><div id=\"sk-container-id-3\" class=\"sk-top-container\"><div class=\"sk-text-repr-fallback\"><pre>Pipeline(steps=[(&#x27;features&#x27;,\n",
              "                 TfidfVectorizer(min_df=5, ngram_range=(1, 2),\n",
              "                                 stop_words=&#x27;english&#x27;, sublinear_tf=True)),\n",
              "                (&#x27;model&#x27;, MultinomialNB())])</pre><b>In a Jupyter environment, please rerun this cell to show the HTML representation or trust the notebook. <br />On GitHub, the HTML representation is unable to render, please try loading this page with nbviewer.org.</b></div><div class=\"sk-container\" hidden><div class=\"sk-item sk-dashed-wrapped\"><div class=\"sk-label-container\"><div class=\"sk-label sk-toggleable\"><input class=\"sk-toggleable__control sk-hidden--visually\" id=\"sk-estimator-id-7\" type=\"checkbox\" ><label for=\"sk-estimator-id-7\" class=\"sk-toggleable__label sk-toggleable__label-arrow\">Pipeline</label><div class=\"sk-toggleable__content\"><pre>Pipeline(steps=[(&#x27;features&#x27;,\n",
              "                 TfidfVectorizer(min_df=5, ngram_range=(1, 2),\n",
              "                                 stop_words=&#x27;english&#x27;, sublinear_tf=True)),\n",
              "                (&#x27;model&#x27;, MultinomialNB())])</pre></div></div></div><div class=\"sk-serial\"><div class=\"sk-item\"><div class=\"sk-estimator sk-toggleable\"><input class=\"sk-toggleable__control sk-hidden--visually\" id=\"sk-estimator-id-8\" type=\"checkbox\" ><label for=\"sk-estimator-id-8\" class=\"sk-toggleable__label sk-toggleable__label-arrow\">TfidfVectorizer</label><div class=\"sk-toggleable__content\"><pre>TfidfVectorizer(min_df=5, ngram_range=(1, 2), stop_words=&#x27;english&#x27;,\n",
              "                sublinear_tf=True)</pre></div></div></div><div class=\"sk-item\"><div class=\"sk-estimator sk-toggleable\"><input class=\"sk-toggleable__control sk-hidden--visually\" id=\"sk-estimator-id-9\" type=\"checkbox\" ><label for=\"sk-estimator-id-9\" class=\"sk-toggleable__label sk-toggleable__label-arrow\">MultinomialNB</label><div class=\"sk-toggleable__content\"><pre>MultinomialNB()</pre></div></div></div></div></div></div></div>"
            ]
          },
          "metadata": {},
          "execution_count": 65
        }
      ]
    },
    {
      "cell_type": "code",
      "source": [],
      "metadata": {
        "id": "meQzNrSqqUse"
      },
      "execution_count": null,
      "outputs": []
    },
    {
      "cell_type": "markdown",
      "source": [
        "# (D) Baseline: Naive Bayes Classifier"
      ],
      "metadata": {
        "id": "99RXc3QxqVcW"
      }
    },
    {
      "cell_type": "code",
      "source": [
        "# Classifier metrics\n",
        "\n",
        "def classifier_metrics(y_pred, y_true, id2label, classes):\n",
        "  \"\"\"\n",
        "  Takes lists of predictions of label id's and their true id's.\n",
        "  Returns confusion matrix and classification report, with the id's mapped to their labels, (as defined by id2label and label2id dictionaries)\n",
        "  \"\"\"\n",
        "  result = pd.DataFrame(columns=['y_pred_id', 'y_pred'])\n",
        "  result.loc[:, 'y_pred_id'] = y_pred\n",
        "  result.loc[:, 'y_pred'] = result['y_pred_id'].map(id2label)\n",
        "  result.loc[:, 'y_true_id'] = y_true\n",
        "  result.loc[:, 'y_true'] = result['y_true_id'].map(id2label)\n",
        "  print(result)\n",
        "\n",
        "  cm = confusion_matrix(result['y_true'], result['y_pred'], labels=classes)\n",
        "  display = ConfusionMatrixDisplay(cm, display_labels=classes).plot()\n",
        "  plt.xticks(rotation=70)\n",
        "  plt.show()\n",
        "  print(classification_report(\n",
        "      y_true=result['y_true'], y_pred=result['y_pred'],\n",
        "      labels=classes, zero_division=True))\n",
        "  return result, cm"
      ],
      "metadata": {
        "id": "GyuX7wDFDZ3v"
      },
      "execution_count": 70,
      "outputs": []
    },
    {
      "cell_type": "code",
      "source": [
        "# Use trained model to predict on test data\n",
        "y_pred = clf.predict(X_test)"
      ],
      "metadata": {
        "id": "jkIa3nuvC5h0"
      },
      "execution_count": 71,
      "outputs": []
    },
    {
      "cell_type": "code",
      "source": [
        "# Score results of prediction\n",
        "result, cm = classifier_metrics(y_pred, y_test, p.id2label, p.classes)"
      ],
      "metadata": {
        "colab": {
          "base_uri": "https://localhost:8080/",
          "height": 1000
        },
        "id": "fAJvb0oHDHeY",
        "outputId": "518a527a-95f2-4f34-bf2c-5bc5e62673dc"
      },
      "execution_count": 72,
      "outputs": [
        {
          "output_type": "stream",
          "name": "stdout",
          "text": [
            "      y_pred_id         y_pred  y_true_id         y_true\n",
            "0             2       POLITICS          2       POLITICS\n",
            "1             5     WORLD NEWS          5     WORLD NEWS\n",
            "2             2       POLITICS          2       POLITICS\n",
            "3             2       POLITICS          2       POLITICS\n",
            "4             1  ENTERTAINMENT          1  ENTERTAINMENT\n",
            "...         ...            ...        ...            ...\n",
            "2427          2       POLITICS          2       POLITICS\n",
            "2428          1  ENTERTAINMENT          1  ENTERTAINMENT\n",
            "2429          2       POLITICS          2       POLITICS\n",
            "2430          2       POLITICS          4      U.S. NEWS\n",
            "2431          1  ENTERTAINMENT          4      U.S. NEWS\n",
            "\n",
            "[2432 rows x 4 columns]\n"
          ]
        },
        {
          "output_type": "display_data",
          "data": {
            "text/plain": [
              "<Figure size 640x480 with 2 Axes>"
            ],
            "image/png": "[encoded data removed]"
          },
          "metadata": {}
        },
        {
          "output_type": "stream",
          "name": "stdout",
          "text": [
            "               precision    recall  f1-score   support\n",
            "\n",
            "       COMEDY       0.89      0.35      0.51       119\n",
            "ENTERTAINMENT       0.75      0.74      0.74       544\n",
            "     POLITICS       0.69      0.96      0.80      1077\n",
            "       SPORTS       0.77      0.22      0.34       105\n",
            "    U.S. NEWS       0.70      0.27      0.39       275\n",
            "   WORLD NEWS       0.81      0.58      0.68       312\n",
            "\n",
            "     accuracy                           0.72      2432\n",
            "    macro avg       0.77      0.52      0.58      2432\n",
            " weighted avg       0.73      0.72      0.69      2432\n",
            "\n"
          ]
        }
      ]
    },
    {
      "cell_type": "markdown",
      "source": [
        "After training the Naive Bayes classifier to classify headlines into 6 categories, 3 of the major categories (Politics, Entertainment and World News) are showing F1 scores of 0.68 or more. The 4th major category, U.S. News, had F1 score of 0.39. Predictions for minor categories are rather poor, with 0.3 to 0.5 F1 score, as expected, due to insufficient learning examples relative to the large categories.\n",
        "\n",
        "Accuracy averages at 0.72, weighted average accuracy is at 0.69.\n",
        "\n",
        "Recall scores for the smaller categories are generally poor e.g. 0.27 for U.S. News, 0.22 for Sports, as many articles from the minor classes get classified into the large classes, which results in poor recall for these minor classes.\n",
        "\n",
        "The Politics category appears to draw in many wrongly classified items."
      ],
      "metadata": {
        "id": "X7L3k6Y7TfEm"
      }
    },
    {
      "cell_type": "markdown",
      "source": [
        "# (E) Comparing non-transformer models\n",
        "\n",
        "We compare the performance of the baseline Naive Bayes classifier with other conventional non-transformer classifiers -- Logistic Regressor, Random Forest and Linear Support Vector Classifier.\n",
        "\n",
        "This is done with 5-fold cross-validation to rule out effects of sampling during partitioning of train, test and validation datasets."
      ],
      "metadata": {
        "id": "Je_6SJFDBf5n"
      }
    },
    {
      "cell_type": "code",
      "source": [
        "from sklearn.linear_model import LogisticRegression\n",
        "from sklearn.ensemble import RandomForestClassifier\n",
        "from sklearn.svm import LinearSVC\n",
        "from sklearn.model_selection import cross_val_score\n",
        "from sklearn import metrics\n",
        "\n",
        "models = [MultinomialNB(),\n",
        "          RandomForestClassifier(n_estimators=200, max_depth=10, random_state=RANDOM_STATE),\n",
        "          LogisticRegression(max_iter=1000), # Increase iterations else convergence warning: \"lbfgs failed to converge (status=1)\"\n",
        "          LinearSVC()]\n",
        "\n",
        "CV = 5\n",
        "cv_df = pd.DataFrame(index=range(CV*len(models)))\n",
        "\n",
        "model_scores =[]\n",
        "for model in models:\n",
        "  model_name = model.__class__.__name__\n",
        "  accuracies = cross_val_score(model, features, labels, scoring = 'accuracy', cv=CV)\n",
        "  for fold_idx, accuracy in enumerate(accuracies):\n",
        "    model_scores.append((model_name, fold_idx, accuracy))\n",
        "\n",
        "\n"
      ],
      "metadata": {
        "id": "_05qFw2V_YlY"
      },
      "execution_count": 73,
      "outputs": []
    },
    {
      "cell_type": "code",
      "source": [
        "model_scores"
      ],
      "metadata": {
        "id": "s3yIjy01_SxZ",
        "colab": {
          "base_uri": "https://localhost:8080/"
        },
        "outputId": "b34bc228-2e8d-444a-f01b-85a283ed2baf"
      },
      "execution_count": 74,
      "outputs": [
        {
          "output_type": "execute_result",
          "data": {
            "text/plain": [
              "[('MultinomialNB', 0, 0.6681743421052632),\n",
              " ('MultinomialNB', 1, 0.694078947368421),\n",
              " ('MultinomialNB', 2, 0.7261513157894737),\n",
              " ('MultinomialNB', 3, 0.7375565610859729),\n",
              " ('MultinomialNB', 4, 0.7293294940353764),\n",
              " ('RandomForestClassifier', 0, 0.44942434210526316),\n",
              " ('RandomForestClassifier', 1, 0.44366776315789475),\n",
              " ('RandomForestClassifier', 2, 0.44901315789473684),\n",
              " ('RandomForestClassifier', 3, 0.4520773344302756),\n",
              " ('RandomForestClassifier', 4, 0.448786507610037),\n",
              " ('LogisticRegression', 0, 0.6949013157894737),\n",
              " ('LogisticRegression', 1, 0.7195723684210527),\n",
              " ('LogisticRegression', 2, 0.7598684210526315),\n",
              " ('LogisticRegression', 3, 0.765117235705471),\n",
              " ('LogisticRegression', 4, 0.762649115590292),\n",
              " ('LinearSVC', 0, 0.7080592105263158),\n",
              " ('LinearSVC', 1, 0.712171052631579),\n",
              " ('LinearSVC', 2, 0.765625),\n",
              " ('LinearSVC', 3, 0.762649115590292),\n",
              " ('LinearSVC', 4, 0.7700534759358288)]"
            ]
          },
          "metadata": {},
          "execution_count": 74
        }
      ]
    },
    {
      "cell_type": "code",
      "source": [
        "# TODO: tabulate model scores"
      ],
      "metadata": {
        "id": "RXGAlpGNgFkN"
      },
      "execution_count": null,
      "outputs": []
    }
  ]
}