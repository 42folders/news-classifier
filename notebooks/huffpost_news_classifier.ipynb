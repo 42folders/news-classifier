{
  "nbformat": 4,
  "nbformat_minor": 0,
  "metadata": {
    "colab": {
      "provenance": []
    },
    "kernelspec": {
      "name": "python3",
      "display_name": "Python 3"
    },
    "language_info": {
      "name": "python"
    }
  },
  "cells": [
    {
      "cell_type": "code",
      "execution_count": null,
      "metadata": {
        "id": "UjyHq_eB5Vi1"
      },
      "outputs": [],
      "source": []
    },
    {
      "cell_type": "markdown",
      "source": [
        "# Aim\n",
        "To determine if transformer models can perform better than non-transformer models in an NLP single-label classification of an imbalanced dataset\n",
        "\n",
        "# Task\n",
        "Classify Huffington News headlines into categories\n",
        "\n",
        "# Model types and training approaches\n",
        "## (1) Huggingface's Transformer (DistilBERT)\n",
        "- Using Huggingface's Pytorch Trainer API to fine-tune DistilBERT\n",
        "\n",
        "## (2) Non-transformer models:\n",
        "- Naive Bayes\n",
        "- Random Forest\n",
        "- Logistic Regression\n",
        "- Support Vector Machine\n",
        "\n",
        "To use k-fold cross-validation to determine which is the best performing non-transformer model\n",
        "\n",
        "# Data treatments\n",
        "## (1) None\n",
        "use imbalanced dataset as is for both types of models to see if transformers have any advantages over non-transformer models for imbalanced data\n",
        "\n",
        "## (2) Oversampling of minority classes\n",
        "\n",
        "## (3) Undersampling of majority classes\n",
        "\n",
        "# Metrics\n",
        "Compare Accuracy and F1 scores\n"
      ],
      "metadata": {
        "id": "BxWGHQd55ZJ2"
      }
    },
    {
      "cell_type": "code",
      "source": [],
      "metadata": {
        "id": "B1woTYV0BeUO"
      },
      "execution_count": null,
      "outputs": []
    },
    {
      "cell_type": "markdown",
      "source": [
        "# (A) Transformer"
      ],
      "metadata": {
        "id": "Je_6SJFDBf5n"
      }
    },
    {
      "cell_type": "code",
      "source": [
        "import pandas as pd\n",
        "import numpy as np\n",
        "\n",
        "import transformers\n",
        "print(transformers.__version__)\n",
        "from transformers import Trainer\n"
      ],
      "metadata": {
        "id": "oXM_iCKi641u"
      },
      "execution_count": null,
      "outputs": []
    }
  ]
}